{
 "cells": [
  {
   "cell_type": "code",
   "execution_count": 1,
   "id": "5905d369",
   "metadata": {},
   "outputs": [],
   "source": [
    "import pandas as pd \n",
    "import matplotlib.pyplot as plt\n",
    "import seaborn as sns\n",
    "import numpy as np\n",
    "\n",
    "pd.options.display.max_rows = 4000\n",
    "pd.options.display.max_columns = 4000\n",
    "pd.options.display.max_seq_items = 2000"
   ]
  },
  {
   "cell_type": "code",
   "execution_count": 2,
   "id": "72928ce9",
   "metadata": {},
   "outputs": [],
   "source": [
    "df_co2 = pd.read_excel(\"../data/SuEatableLife_Food_Fooprint_database.xlsx\", sheet_name = \"SEL CF for users\")"
   ]
  },
  {
   "cell_type": "code",
   "execution_count": 3,
   "id": "22830987",
   "metadata": {},
   "outputs": [
    {
     "data": {
      "text/html": [
       "<div>\n",
       "<style scoped>\n",
       "    .dataframe tbody tr th:only-of-type {\n",
       "        vertical-align: middle;\n",
       "    }\n",
       "\n",
       "    .dataframe tbody tr th {\n",
       "        vertical-align: top;\n",
       "    }\n",
       "\n",
       "    .dataframe thead th {\n",
       "        text-align: right;\n",
       "    }\n",
       "</style>\n",
       "<table border=\"1\" class=\"dataframe\">\n",
       "  <thead>\n",
       "    <tr style=\"text-align: right;\">\n",
       "      <th></th>\n",
       "      <th>food_commodity_group</th>\n",
       "      <th>food_commodity_item</th>\n",
       "      <th>CF_food_item</th>\n",
       "      <th>uncertainty</th>\n",
       "      <th>Suggested CF value</th>\n",
       "      <th>food_commodity_typology</th>\n",
       "      <th>CF_food_typology</th>\n",
       "      <th>Food_commodity_sub-TYPOLOGY</th>\n",
       "      <th>CF_food_sub_typology</th>\n",
       "    </tr>\n",
       "  </thead>\n",
       "  <tbody>\n",
       "    <tr>\n",
       "      <th>0</th>\n",
       "      <td>AGRICULTURAL PROCESSED</td>\n",
       "      <td>BEER IN CAN</td>\n",
       "      <td>0.69300</td>\n",
       "      <td>L</td>\n",
       "      <td>OK item</td>\n",
       "      <td>BEER</td>\n",
       "      <td>0.69</td>\n",
       "      <td>-</td>\n",
       "      <td>-</td>\n",
       "    </tr>\n",
       "    <tr>\n",
       "      <th>1</th>\n",
       "      <td>AGRICULTURAL PROCESSED</td>\n",
       "      <td>BEER IN GLASS</td>\n",
       "      <td>0.96050</td>\n",
       "      <td>L</td>\n",
       "      <td>OK item</td>\n",
       "      <td>BEER</td>\n",
       "      <td>0.69</td>\n",
       "      <td>-</td>\n",
       "      <td>-</td>\n",
       "    </tr>\n",
       "    <tr>\n",
       "      <th>2</th>\n",
       "      <td>AGRICULTURAL PROCESSED</td>\n",
       "      <td>BEER MODULAR CAN</td>\n",
       "      <td>0.53060</td>\n",
       "      <td>L</td>\n",
       "      <td>OK item</td>\n",
       "      <td>BEER</td>\n",
       "      <td>0.69</td>\n",
       "      <td>-</td>\n",
       "      <td>-</td>\n",
       "    </tr>\n",
       "    <tr>\n",
       "      <th>3</th>\n",
       "      <td>AGRICULTURAL PROCESSED</td>\n",
       "      <td>CHOCOLATE OR CREAM FILLED COOKIES**</td>\n",
       "      <td>1.53300</td>\n",
       "      <td>L</td>\n",
       "      <td>OK item</td>\n",
       "      <td>BISCUITS</td>\n",
       "      <td>1.47</td>\n",
       "      <td>-</td>\n",
       "      <td>-</td>\n",
       "    </tr>\n",
       "    <tr>\n",
       "      <th>4</th>\n",
       "      <td>AGRICULTURAL PROCESSED</td>\n",
       "      <td>SIMPLE COOKIES**</td>\n",
       "      <td>1.39075</td>\n",
       "      <td>L</td>\n",
       "      <td>OK item</td>\n",
       "      <td>BISCUITS</td>\n",
       "      <td>1.47</td>\n",
       "      <td>-</td>\n",
       "      <td>-</td>\n",
       "    </tr>\n",
       "  </tbody>\n",
       "</table>\n",
       "</div>"
      ],
      "text/plain": [
       "     food_commodity_group                  food_commodity_item  CF_food_item  \\\n",
       "0  AGRICULTURAL PROCESSED                          BEER IN CAN       0.69300   \n",
       "1  AGRICULTURAL PROCESSED                        BEER IN GLASS       0.96050   \n",
       "2  AGRICULTURAL PROCESSED                     BEER MODULAR CAN       0.53060   \n",
       "3  AGRICULTURAL PROCESSED  CHOCOLATE OR CREAM FILLED COOKIES**       1.53300   \n",
       "4  AGRICULTURAL PROCESSED                     SIMPLE COOKIES**       1.39075   \n",
       "\n",
       "  uncertainty Suggested CF value food_commodity_typology  CF_food_typology  \\\n",
       "0           L            OK item                    BEER              0.69   \n",
       "1           L            OK item                    BEER              0.69   \n",
       "2           L            OK item                    BEER              0.69   \n",
       "3           L            OK item                BISCUITS              1.47   \n",
       "4           L            OK item                BISCUITS              1.47   \n",
       "\n",
       "  Food_commodity_sub-TYPOLOGY CF_food_sub_typology  \n",
       "0                           -                    -  \n",
       "1                           -                    -  \n",
       "2                           -                    -  \n",
       "3                           -                    -  \n",
       "4                           -                    -  "
      ]
     },
     "execution_count": 3,
     "metadata": {},
     "output_type": "execute_result"
    }
   ],
   "source": [
    "df_co2.rename(columns={'Carbon Footprint kg CO2eq/kg or l of food ITEM' : \"CF_food_item\", \n",
    "                       \"FOOD COMMODITY GROUP\" : \"food_commodity_group\",\n",
    "                       \"Food commodity ITEM\" : \"food_commodity_item\",   \n",
    "            'Uncertainty    low (L) high (H)' : 'uncertainty',\n",
    "             'Carbon Footprint g CO2eq/g o cc of food TYPOLOGY' : \"CF_food_typology\",\n",
    "             \"Food commodity TYPOLOGY\" : \"food_commodity_typology\",\n",
    "             \"Food commodity sub-TYPOLOGY\": \"Food_commodity_sub-TYPOLOGY\",\n",
    "              'Carbon Footprint g CO2eq/g o cc of food sub-TYPOLOGY' : \"CF_food_sub_typology\"\n",
    "                }, inplace= True)\n",
    "\n",
    "df_co2.head()"
   ]
  },
  {
   "cell_type": "code",
   "execution_count": 4,
   "id": "19733620",
   "metadata": {},
   "outputs": [
    {
     "data": {
      "text/plain": [
       "Index(['food_commodity_group', 'food_commodity_item', 'CF_food_item',\n",
       "       'uncertainty', 'Suggested CF value', 'food_commodity_typology',\n",
       "       'CF_food_typology', 'Food_commodity_sub-TYPOLOGY',\n",
       "       'CF_food_sub_typology'],\n",
       "      dtype='object')"
      ]
     },
     "execution_count": 4,
     "metadata": {},
     "output_type": "execute_result"
    }
   ],
   "source": [
    "df_co2.columns"
   ]
  },
  {
   "cell_type": "code",
   "execution_count": 5,
   "id": "75bb7dfa",
   "metadata": {},
   "outputs": [
    {
     "data": {
      "text/html": [
       "<div>\n",
       "<style scoped>\n",
       "    .dataframe tbody tr th:only-of-type {\n",
       "        vertical-align: middle;\n",
       "    }\n",
       "\n",
       "    .dataframe tbody tr th {\n",
       "        vertical-align: top;\n",
       "    }\n",
       "\n",
       "    .dataframe thead th {\n",
       "        text-align: right;\n",
       "    }\n",
       "</style>\n",
       "<table border=\"1\" class=\"dataframe\">\n",
       "  <thead>\n",
       "    <tr style=\"text-align: right;\">\n",
       "      <th></th>\n",
       "      <th>food_commodity_group</th>\n",
       "      <th>food_commodity_item</th>\n",
       "      <th>CF_food_item</th>\n",
       "      <th>food_commodity_typology</th>\n",
       "    </tr>\n",
       "  </thead>\n",
       "  <tbody>\n",
       "    <tr>\n",
       "      <th>0</th>\n",
       "      <td>AGRICULTURAL PROCESSED</td>\n",
       "      <td>BEER IN CAN</td>\n",
       "      <td>0.69300</td>\n",
       "      <td>BEER</td>\n",
       "    </tr>\n",
       "    <tr>\n",
       "      <th>1</th>\n",
       "      <td>AGRICULTURAL PROCESSED</td>\n",
       "      <td>BEER IN GLASS</td>\n",
       "      <td>0.96050</td>\n",
       "      <td>BEER</td>\n",
       "    </tr>\n",
       "    <tr>\n",
       "      <th>2</th>\n",
       "      <td>AGRICULTURAL PROCESSED</td>\n",
       "      <td>BEER MODULAR CAN</td>\n",
       "      <td>0.53060</td>\n",
       "      <td>BEER</td>\n",
       "    </tr>\n",
       "    <tr>\n",
       "      <th>3</th>\n",
       "      <td>AGRICULTURAL PROCESSED</td>\n",
       "      <td>CHOCOLATE OR CREAM FILLED COOKIES**</td>\n",
       "      <td>1.53300</td>\n",
       "      <td>BISCUITS</td>\n",
       "    </tr>\n",
       "    <tr>\n",
       "      <th>4</th>\n",
       "      <td>AGRICULTURAL PROCESSED</td>\n",
       "      <td>SIMPLE COOKIES**</td>\n",
       "      <td>1.39075</td>\n",
       "      <td>BISCUITS</td>\n",
       "    </tr>\n",
       "  </tbody>\n",
       "</table>\n",
       "</div>"
      ],
      "text/plain": [
       "     food_commodity_group                  food_commodity_item  CF_food_item  \\\n",
       "0  AGRICULTURAL PROCESSED                          BEER IN CAN       0.69300   \n",
       "1  AGRICULTURAL PROCESSED                        BEER IN GLASS       0.96050   \n",
       "2  AGRICULTURAL PROCESSED                     BEER MODULAR CAN       0.53060   \n",
       "3  AGRICULTURAL PROCESSED  CHOCOLATE OR CREAM FILLED COOKIES**       1.53300   \n",
       "4  AGRICULTURAL PROCESSED                     SIMPLE COOKIES**       1.39075   \n",
       "\n",
       "  food_commodity_typology  \n",
       "0                    BEER  \n",
       "1                    BEER  \n",
       "2                    BEER  \n",
       "3                BISCUITS  \n",
       "4                BISCUITS  "
      ]
     },
     "execution_count": 5,
     "metadata": {},
     "output_type": "execute_result"
    }
   ],
   "source": [
    "treemap_df = df_co2.drop(columns=[\n",
    "       'uncertainty', 'Suggested CF value', \n",
    "       'CF_food_typology', 'Food_commodity_sub-TYPOLOGY',\n",
    "       'CF_food_sub_typology'])\n",
    "treemap_df.head()"
   ]
  },
  {
   "cell_type": "code",
   "execution_count": 7,
   "id": "8ef48bcd",
   "metadata": {},
   "outputs": [],
   "source": [
    "treemap_df.to_json('co2_treemap.json', orient='records', lines=True)"
   ]
  },
  {
   "cell_type": "code",
   "execution_count": 9,
   "id": "53a7e2f7",
   "metadata": {},
   "outputs": [
    {
     "data": {
      "text/plain": [
       "{('AGRICULTURAL PROCESSED', 'BEER'): [0, 1, 2], ('AGRICULTURAL PROCESSED', 'BISCUITS'): [3, 4], ('AGRICULTURAL PROCESSED', 'BOTTLED WATER* (mineral water)'): [5], ('AGRICULTURAL PROCESSED', 'BREAD'): [6, 7, 8], ('AGRICULTURAL PROCESSED', 'BREAD FROZEN* (rolls frozen)'): [9], ('AGRICULTURAL PROCESSED', 'BREAKFAST CEREALS* (cornflakes)'): [10], ('AGRICULTURAL PROCESSED', 'CHOCOLATE'): [11, 12], ('AGRICULTURAL PROCESSED', 'COFFEE GROUND & PARCHMENT'): [13, 14], ('AGRICULTURAL PROCESSED', 'COFFEE LIQUID'): [15, 16, 17], ('AGRICULTURAL PROCESSED', 'CRACKERS'): [18, 19, 20], ('AGRICULTURAL PROCESSED', 'CRISPBREAD**'): [21], ('AGRICULTURAL PROCESSED', 'DRESSING'): [22, 23, 24], ('AGRICULTURAL PROCESSED', 'EGG PASTA*'): [25], ('AGRICULTURAL PROCESSED', 'FRUIT FROZEN* (raspberry)'): [26], ('AGRICULTURAL PROCESSED', 'FRUIT JUICE (imported ingredients)'): [27, 28, 29, 30, 31, 32, 33, 34], ('AGRICULTURAL PROCESSED', 'FRUIT JUICE LOCAL'): [35, 36], ('AGRICULTURAL PROCESSED', 'GRAIN FLOUR'): [37, 38, 39, 40, 41, 42, 43, 44, 45], ('AGRICULTURAL PROCESSED', 'ICE CREAM'): [46, 47, 48], ('AGRICULTURAL PROCESSED', 'LEGUME FLOUR'): [49, 50, 51], ('AGRICULTURAL PROCESSED', 'LEGUMES CANNED'): [52, 53], ('AGRICULTURAL PROCESSED', 'LEGUMES FROZEN'): [54, 55], ('AGRICULTURAL PROCESSED', 'MARGARINE*'): [56], ('AGRICULTURAL PROCESSED', 'NUTS COVERED WITH CHOCOLATE'): [57, 58], ('AGRICULTURAL PROCESSED', 'NUTS PASTE'): [59, 60, 61, 62, 63], ('AGRICULTURAL PROCESSED', 'OIL'): [64, 65, 66, 67, 68, 69], ('AGRICULTURAL PROCESSED', 'PASTA*'): [70], ('AGRICULTURAL PROCESSED', 'PESTO'): [71, 72], ('AGRICULTURAL PROCESSED', 'SUGAR'): [73, 74], ('AGRICULTURAL PROCESSED', 'SWEETS'): [75, 76], ('AGRICULTURAL PROCESSED', 'TOMATO PUREE,PEELED, CHOPPED'): [77, 78, 79], ('AGRICULTURAL PROCESSED', 'TOMATO SAUCE'): [80, 81], ('AGRICULTURAL PROCESSED', 'VEGETABLES CANNED'): [82, 83], ('AGRICULTURAL PROCESSED', 'VEGETABLES FROZEN'): [84, 85], ('AGRICULTURAL PROCESSED', 'VEGETAL CREAM* (soy cream)'): [86], ('AGRICULTURAL PROCESSED', 'VEGETAL MILK'): [87, 88, 89, 90], ('AGRICULTURAL PROCESSED', 'VEGETAL PROTEINS'): [91, 92, 93], ('AGRICULTURAL PROCESSED', 'VEGETAL YOGURT (soy yogurt)'): [94], ('AGRICULTURAL PROCESSED', 'WINE'): [95, 96], ('AGRICULTURAL PROCESSED', 'YEAST COMPRESSED*'): [97], ('AGRICULTURAL PROCESSED', 'YEAST DRIED*'): [98], ('AGRICULTURAL PROCESSED', 'YEAST LIQUID*'): [99], ('ANIMAL HUSBANDRY', 'BEEF BONE FREE MEAT*'): [100], ('ANIMAL HUSBANDRY', 'BEEF MEAT WITH BONE*'): [101], ('ANIMAL HUSBANDRY', 'BUFFALO BONE FREE MEAT*'): [102], ('ANIMAL HUSBANDRY', 'BUTTER*'): [103], ('ANIMAL HUSBANDRY', 'CHEESE FRESH'): [104, 105, 106, 107, 108], ('ANIMAL HUSBANDRY', 'CHEESE HARD & SEMI-HARD'): [109, 110, 111, 112, 113, 114, 115, 116, 117, 118], ('ANIMAL HUSBANDRY', 'EDIBLE INSECTS* (mealworms)'): [119], ('ANIMAL HUSBANDRY', 'EGGS*'): [120], ('ANIMAL HUSBANDRY', 'HONEY*'): [121], ('ANIMAL HUSBANDRY', 'KANGAROO MEAT*'): [122], ('ANIMAL HUSBANDRY', 'LAMB BONE FREE MEAT*'): [123], ('ANIMAL HUSBANDRY', 'LAMB MEAT WITH BONE*'): [124], ('ANIMAL HUSBANDRY', 'MILK'): [125, 126, 127], ('ANIMAL HUSBANDRY', 'PORK BONE FREE MEAT*'): [128], ('ANIMAL HUSBANDRY', 'PORK CURED MEAT'): [129, 130, 131, 132], ('ANIMAL HUSBANDRY', 'PORK MEAT WITH BONE*'): [133], ('ANIMAL HUSBANDRY', 'POULTRY BONE FREE MEAT'): [134, 135, 136, 137], ('ANIMAL HUSBANDRY', 'POULTRY MEAT WITH BONE'): [138, 139, 140], ('ANIMAL HUSBANDRY', 'RABBIT MEAT WITH BONE*'): [141], ('ANIMAL HUSBANDRY', 'SNAILS*'): [142], ('ANIMAL HUSBANDRY', 'YOGURT'): [143, 144, 145], ('CROPS', 'COFFEE GREEN*'): [146], ('CROPS', 'DRIED FRUIT'): [147, 148], ('CROPS', 'FRUIT HEATED GREENHOUSE'): [149, 150, 151], ('CROPS', 'FRUIT IMPORTED'): [152, 153, 154, 155, 156, 157, 158], ('CROPS', 'FRUIT NOT HEATED GREENHOUSE* (melon)'): [159], ('CROPS', 'FRUIT OPENFIELD'): [160, 161, 162, 163, 164, 165, 166, 167, 168, 169, 170, 171, 172, 173, 174, 175, 176, 177, 178, 179, 180, 181, 182, 183, 184, 185, 186, 187, 188, 189, 190, 191, 192, 193], ('CROPS', 'GRAINS'): [194, 195, 196, 197, 198, 199, 200, 201], ('CROPS', 'LEGUMES'): [202, 203, 204, 205, 206, 207, 208], ('CROPS', 'LEGUMES NOT HEATED GREENHOUSE (green bean)'): [209], ('CROPS', 'MUSHROOM*'): [210], ('CROPS', 'NUTS'): [211, 212, 213, 214, 215, 216, 217, 218, 219], ('CROPS', 'RICE*'): [220], ('CROPS', 'SEEDS'): [221, 222, 223], ('CROPS', 'SPICIES'): [224, 225], ('CROPS', 'STARCHY TUBERS'): [226, 227, 228], ('CROPS', 'VEGETABLES HEATED GREENHOUSE'): [229, 230, 231, 232, 233], ('CROPS', 'VEGETABLES NOT HEATED GREENHOUSE'): [234, 235, 236, 237, 238], ('CROPS', 'VEGETABLES OPENFIELD'): [239, 240, 241, 242, 243, 244, 245, 246, 247, 248, 249, 250, 251, 252, 253, 254, 255, 256, 257, 258, 259, 260, 261, 262], ('FISHING', 'FISH'): [263, 264, 265, 266, 267, 268, 269, 270, 271, 272, 273, 274, 275, 276, 277, 278, 279, 280, 281, 282, 283, 284, 285, 286, 287, 288, 289, 290, 291, 292, 293, 294, 295, 296, 297], ('FISHING', 'FISH FROZEN'): [298, 299, 300, 301, 302, 303, 304, 305, 306, 307, 308, 309], ('FISHING', 'FISH PROCESSED'): [310, 311, 312, 313], ('FISHING', 'SHELLFISH'): [314, 315, 316, 317, 318, 319, 320, 321], ('FISHING', 'SHELLFISH FROZEN'): [322, 323]}"
      ]
     },
     "execution_count": 9,
     "metadata": {},
     "output_type": "execute_result"
    }
   ],
   "source": [
    "treemap_df.groupby(by=[\"food_commodity_group\", \"food_commodity_typology\"]).groups"
   ]
  },
  {
   "cell_type": "code",
   "execution_count": null,
   "id": "379ebb49",
   "metadata": {},
   "outputs": [],
   "source": []
  }
 ],
 "metadata": {
  "kernelspec": {
   "display_name": "Python 3",
   "language": "python",
   "name": "python3"
  },
  "language_info": {
   "codemirror_mode": {
    "name": "ipython",
    "version": 3
   },
   "file_extension": ".py",
   "mimetype": "text/x-python",
   "name": "python",
   "nbconvert_exporter": "python",
   "pygments_lexer": "ipython3",
   "version": "3.11.2"
  }
 },
 "nbformat": 4,
 "nbformat_minor": 5
}
