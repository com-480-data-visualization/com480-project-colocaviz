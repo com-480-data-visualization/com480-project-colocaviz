{
 "cells": [
  {
   "cell_type": "markdown",
   "metadata": {},
   "source": [
    "# Exploration"
   ]
  },
  {
   "cell_type": "code",
   "execution_count": 30,
   "metadata": {},
   "outputs": [],
   "source": [
    "import pandas as pd \n",
    "import matplotlib.pyplot as plt\n",
    "import seaborn as sns\n",
    "import numpy as np"
   ]
  },
  {
   "cell_type": "markdown",
   "metadata": {},
   "source": [
    "## Basic description of Carbon emission dataset"
   ]
  },
  {
   "cell_type": "code",
   "execution_count": 18,
   "metadata": {},
   "outputs": [],
   "source": [
    "co2_df = pd.read_excel(\"SuEatableLife_Food_Fooprint_database.xlsx\", sheet_name = \"SEL CF for users\")"
   ]
  },
  {
   "cell_type": "markdown",
   "metadata": {},
   "source": [
    "### Small cleaning of the dataset"
   ]
  },
  {
   "cell_type": "code",
   "execution_count": 21,
   "metadata": {},
   "outputs": [
    {
     "data": {
      "text/plain": [
       "Index(['FOOD COMMODITY GROUP', 'Food commodity ITEM',\n",
       "       'Carbon Footprint kg CO2eq/kg or l of food ITEM',\n",
       "       'Uncertainty    low (L) high (H)', 'Suggested CF value',\n",
       "       'Food commodity TYPOLOGY',\n",
       "       'Carbon Footprint g CO2eq/g o cc of food TYPOLOGY',\n",
       "       'Food commodity sub-TYPOLOGY',\n",
       "       'Carbon Footprint g CO2eq/g o cc of food sub-TYPOLOGY'],\n",
       "      dtype='object')"
      ]
     },
     "execution_count": 21,
     "metadata": {},
     "output_type": "execute_result"
    }
   ],
   "source": [
    "co2_df.columns"
   ]
  },
  {
   "cell_type": "code",
   "execution_count": null,
   "metadata": {},
   "outputs": [],
   "source": [
    "co2_df.rename(columns={'Carbon Footprint kg CO2eq/kg or l of food ITEM' : \"CF_food_item\", \n",
    "                       \"FOOD COMMODITY GROUP\" : \"food_commodity_group\",\n",
    "                       \"Food commodity ITEM\" : \"food_commodity_item\",   \n",
    "            'Uncertainty    low (L) high (H)' : 'Confidence_interval',\n",
    "             'Carbon Footprint g CO2eq/g o cc of food TYPOLOGY' : \"CF_food_typology\",\n",
    "             \"Food commodity TYPOLOGY\" : \"food_commodity_typology\",\n",
    "             \"Food commodity sub-TYPOLOGY\": \"Food_commodity_sub-TYPOLOGY\",\n",
    "              'Carbon Footprint g CO2eq/g o cc of food sub-TYPOLOGY' : \"CF_food_sub_typology\"\n",
    "                }, inplace= True)"
   ]
  },
  {
   "cell_type": "code",
   "execution_count": 32,
   "metadata": {},
   "outputs": [],
   "source": [
    "pd.set_option('future.no_silent_downcasting', True)\n",
    "co2_df.replace({'-': np.nan}, inplace= True)"
   ]
  },
  {
   "cell_type": "markdown",
   "metadata": {},
   "source": [
    "### Small description"
   ]
  },
  {
   "cell_type": "code",
   "execution_count": 39,
   "metadata": {},
   "outputs": [
    {
     "data": {
      "text/plain": [
       "food_commodity_group             0\n",
       "food_commodity_item              0\n",
       "CF_food_item                     0\n",
       "Confidence_interval              0\n",
       "Suggested CF value               0\n",
       "Food commodity TYPOLOGY          0\n",
       "CF_food_typology                 0\n",
       "Food commodity sub-TYPOLOGY    261\n",
       "CF_food_sub_typology           261\n",
       "dtype: int64"
      ]
     },
     "execution_count": 39,
     "metadata": {},
     "output_type": "execute_result"
    }
   ],
   "source": [
    "co2_df.isnull().sum()"
   ]
  },
  {
   "cell_type": "code",
   "execution_count": 35,
   "metadata": {},
   "outputs": [
    {
     "data": {
      "application/vnd.microsoft.datawrangler.viewer.v0+json": {
       "columns": [
        {
         "name": "index",
         "rawType": "object",
         "type": "string"
        },
        {
         "name": "CF_food_item",
         "rawType": "float64",
         "type": "float"
        },
        {
         "name": "CF_food_typology",
         "rawType": "float64",
         "type": "float"
        },
        {
         "name": "CF_food_sub_typology",
         "rawType": "float64",
         "type": "float"
        }
       ],
       "conversionMethod": "pd.DataFrame",
       "ref": "86c4b7a1-fcd4-4782-b562-44ce8cc40736",
       "rows": [
        [
         "count",
         "324.0",
         "324.0",
         "63.0"
        ],
        [
         "mean",
         "3.0985387890710028",
         "2.8582986823827166",
         "0.7360317460317461"
        ],
        [
         "std",
         "5.758601630049396",
         "5.292955362620193",
         "1.4226503431890543"
        ],
        [
         "min",
         "0.109",
         "0.27",
         "0.25"
        ],
        [
         "25%",
         "0.59875",
         "0.565",
         "0.32"
        ],
        [
         "50%",
         "1.376",
         "1.437",
         "0.33"
        ],
        [
         "75%",
         "3.2",
         "3.880595599",
         "0.34"
        ],
        [
         "max",
         "78.80017544",
         "78.8",
         "7.04"
        ]
       ],
       "shape": {
        "columns": 3,
        "rows": 8
       }
      },
      "text/html": [
       "<div>\n",
       "<style scoped>\n",
       "    .dataframe tbody tr th:only-of-type {\n",
       "        vertical-align: middle;\n",
       "    }\n",
       "\n",
       "    .dataframe tbody tr th {\n",
       "        vertical-align: top;\n",
       "    }\n",
       "\n",
       "    .dataframe thead th {\n",
       "        text-align: right;\n",
       "    }\n",
       "</style>\n",
       "<table border=\"1\" class=\"dataframe\">\n",
       "  <thead>\n",
       "    <tr style=\"text-align: right;\">\n",
       "      <th></th>\n",
       "      <th>CF_food_item</th>\n",
       "      <th>CF_food_typology</th>\n",
       "      <th>CF_food_sub_typology</th>\n",
       "    </tr>\n",
       "  </thead>\n",
       "  <tbody>\n",
       "    <tr>\n",
       "      <th>count</th>\n",
       "      <td>324.000000</td>\n",
       "      <td>324.000000</td>\n",
       "      <td>63.000000</td>\n",
       "    </tr>\n",
       "    <tr>\n",
       "      <th>mean</th>\n",
       "      <td>3.098539</td>\n",
       "      <td>2.858299</td>\n",
       "      <td>0.736032</td>\n",
       "    </tr>\n",
       "    <tr>\n",
       "      <th>std</th>\n",
       "      <td>5.758602</td>\n",
       "      <td>5.292955</td>\n",
       "      <td>1.422650</td>\n",
       "    </tr>\n",
       "    <tr>\n",
       "      <th>min</th>\n",
       "      <td>0.109000</td>\n",
       "      <td>0.270000</td>\n",
       "      <td>0.250000</td>\n",
       "    </tr>\n",
       "    <tr>\n",
       "      <th>25%</th>\n",
       "      <td>0.598750</td>\n",
       "      <td>0.565000</td>\n",
       "      <td>0.320000</td>\n",
       "    </tr>\n",
       "    <tr>\n",
       "      <th>50%</th>\n",
       "      <td>1.376000</td>\n",
       "      <td>1.437000</td>\n",
       "      <td>0.330000</td>\n",
       "    </tr>\n",
       "    <tr>\n",
       "      <th>75%</th>\n",
       "      <td>3.200000</td>\n",
       "      <td>3.880596</td>\n",
       "      <td>0.340000</td>\n",
       "    </tr>\n",
       "    <tr>\n",
       "      <th>max</th>\n",
       "      <td>78.800175</td>\n",
       "      <td>78.800000</td>\n",
       "      <td>7.040000</td>\n",
       "    </tr>\n",
       "  </tbody>\n",
       "</table>\n",
       "</div>"
      ],
      "text/plain": [
       "       CF_food_item  CF_food_typology  CF_food_sub_typology\n",
       "count    324.000000        324.000000             63.000000\n",
       "mean       3.098539          2.858299              0.736032\n",
       "std        5.758602          5.292955              1.422650\n",
       "min        0.109000          0.270000              0.250000\n",
       "25%        0.598750          0.565000              0.320000\n",
       "50%        1.376000          1.437000              0.330000\n",
       "75%        3.200000          3.880596              0.340000\n",
       "max       78.800175         78.800000              7.040000"
      ]
     },
     "execution_count": 35,
     "metadata": {},
     "output_type": "execute_result"
    }
   ],
   "source": [
    "co2_df.describe()"
   ]
  },
  {
   "cell_type": "code",
   "execution_count": null,
   "metadata": {},
   "outputs": [],
   "source": [
    "co2_df."
   ]
  },
  {
   "cell_type": "markdown",
   "metadata": {},
   "source": [
    "### Doing some plots"
   ]
  },
  {
   "cell_type": "code",
   "execution_count": 33,
   "metadata": {},
   "outputs": [
    {
     "data": {
      "text/plain": [
       "<Axes: xlabel='CF_food_sub_typology', ylabel='Count'>"
      ]
     },
     "execution_count": 33,
     "metadata": {},
     "output_type": "execute_result"
    },
    {
     "data": {
      "image/png": "[encoded data removed]",
      "text/plain": [
       "<Figure size 640x480 with 3 Axes>"
      ]
     },
     "metadata": {},
     "output_type": "display_data"
    }
   ],
   "source": [
    "fig, ax = plt.subplots(3)\n",
    "\n",
    "sns.histplot(data= co2_df, x=  \"CF_food_item\" , ax=ax[0])\n",
    "sns.histplot(data= co2_df, x=  \"CF_food_typology\" , ax=ax[1])\n",
    "sns.histplot(data= co2_df, x=  \"CF_food_sub_typology\" , ax=ax[2])"
   ]
  },
  {
   "cell_type": "code",
   "execution_count": null,
   "metadata": {},
   "outputs": [],
   "source": []
  }
 ],
 "metadata": {
  "kernelspec": {
   "display_name": "dataviz",
   "language": "python",
   "name": "python3"
  },
  "language_info": {
   "codemirror_mode": {
    "name": "ipython",
    "version": 3
   },
   "file_extension": ".py",
   "mimetype": "text/x-python",
   "name": "python",
   "nbconvert_exporter": "python",
   "pygments_lexer": "ipython3",
   "version": "3.13.2"
  }
 },
 "nbformat": 4,
 "nbformat_minor": 2
}
